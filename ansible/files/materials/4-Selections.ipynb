{
 "cells": [
  {
   "cell_type": "markdown",
   "metadata": {},
   "source": [
    "# Selections\n",
    "\n",
    "Often when we're working with numpy we're only interested in a portion of the data in our arrays. The `[]` on `ndarray` allows us select portions of the data in the array in a variety of interesting ways.\n",
    "\n",
    "The exercises in this notebook will teach you how to select elements out of arrays in a variety of ways."
   ]
  },
  {
   "cell_type": "code",
   "execution_count": 1,
   "metadata": {
    "collapsed": true
   },
   "outputs": [],
   "source": [
    "import numpy as np\n",
    "\n",
    "rand = np.random.RandomState(42)  # Use a deterministic seed."
   ]
  },
  {
   "cell_type": "markdown",
   "metadata": {},
   "source": [
    "## Exercise: 1-dimensional selection\n",
    "\n",
    "Write expressions to select the following elements from the array:\n",
    "\n",
    "1. first element\n",
    "1. second element\n",
    "1. last element\n",
    "1. second to last element\n",
    "1. first 5 elements\n",
    "1. last 5 elements\n",
    "1. elements at indices 1, 4, 7, and 13\n",
    "1. elements with even indices\n",
    "1. the entire array, in reverse order\n",
    "1. every other element, starting at index 3 (inclusive) ending at index 17 (exclusive)"
   ]
  },
  {
   "cell_type": "code",
   "execution_count": 15,
   "metadata": {
    "collapsed": true
   },
   "outputs": [],
   "source": [
    "array = np.arange(20)"
   ]
  },
  {
   "cell_type": "code",
   "execution_count": 3,
   "metadata": {},
   "outputs": [
    {
     "data": {
      "text/plain": [
       "0"
      ]
     },
     "execution_count": 3,
     "metadata": {},
     "output_type": "execute_result"
    }
   ],
   "source": [
    "# First Element Selection\n",
    "array[0]"
   ]
  },
  {
   "cell_type": "code",
   "execution_count": 5,
   "metadata": {},
   "outputs": [
    {
     "data": {
      "text/plain": [
       "1"
      ]
     },
     "execution_count": 5,
     "metadata": {},
     "output_type": "execute_result"
    }
   ],
   "source": [
    "# Second Element Selection\n",
    "array[1]"
   ]
  },
  {
   "cell_type": "code",
   "execution_count": 4,
   "metadata": {},
   "outputs": [
    {
     "data": {
      "text/plain": [
       "19"
      ]
     },
     "execution_count": 4,
     "metadata": {},
     "output_type": "execute_result"
    }
   ],
   "source": [
    "#Last Element Selection\n",
    "array[-1]"
   ]
  },
  {
   "cell_type": "code",
   "execution_count": 8,
   "metadata": {},
   "outputs": [
    {
     "data": {
      "text/plain": [
       "array([0, 1, 2, 3, 4])"
      ]
     },
     "execution_count": 8,
     "metadata": {},
     "output_type": "execute_result"
    }
   ],
   "source": [
    "# First 5 elements selection\n",
    "array[:5]"
   ]
  },
  {
   "cell_type": "code",
   "execution_count": 16,
   "metadata": {},
   "outputs": [
    {
     "data": {
      "text/plain": [
       "array([15, 16, 17, 18, 19])"
      ]
     },
     "execution_count": 16,
     "metadata": {},
     "output_type": "execute_result"
    }
   ],
   "source": [
    "# Last 5 Element selection\n",
    "\n",
    "array[-5:]"
   ]
  },
  {
   "cell_type": "code",
   "execution_count": 28,
   "metadata": {},
   "outputs": [
    {
     "data": {
      "text/plain": [
       "array([ 1,  4,  7, 13])"
      ]
     },
     "execution_count": 28,
     "metadata": {},
     "output_type": "execute_result"
    }
   ],
   "source": [
    "# Element at given indexes\n",
    "\n",
    "# Wanted to double check the solution hence created a new array to test it\n",
    "# new_array=np.array([2,25,4,6,10,99,54,65,7,21,343,6,100,101])\n",
    "index_list=[1,4,7,13]\n",
    "array[index_list]\n",
    "# new_array[index_list]"
   ]
  },
  {
   "cell_type": "code",
   "execution_count": 32,
   "metadata": {},
   "outputs": [
    {
     "data": {
      "text/plain": [
       "array([ 0,  2,  4,  6,  8, 10, 12, 14, 16, 18])"
      ]
     },
     "execution_count": 32,
     "metadata": {},
     "output_type": "execute_result"
    }
   ],
   "source": [
    "# Elements with even indices\n",
    "\n",
    "array[::2]"
   ]
  },
  {
   "cell_type": "code",
   "execution_count": 38,
   "metadata": {},
   "outputs": [
    {
     "data": {
      "text/plain": [
       "array([19, 18, 17, 16, 15, 14, 13, 12, 11, 10,  9,  8,  7,  6,  5,  4,  3,\n",
       "        2,  1,  0])"
      ]
     },
     "execution_count": 38,
     "metadata": {},
     "output_type": "execute_result"
    }
   ],
   "source": [
    "# Array in the reverse order(Both the methods are correct.Just wanted to check if numpy has an inbuilt method which can do this too)\n",
    "\n",
    "array[::-1]\n",
    "# np.lookfor(\"reverse\")\n",
    "np.flip(array,0)"
   ]
  },
  {
   "cell_type": "code",
   "execution_count": 40,
   "metadata": {},
   "outputs": [
    {
     "data": {
      "text/plain": [
       "array([ 3,  5,  7,  9, 11, 13, 15])"
      ]
     },
     "execution_count": 40,
     "metadata": {},
     "output_type": "execute_result"
    }
   ],
   "source": [
    "# Elements of an array with some given condition\n",
    "\n",
    "array[3:17:2]"
   ]
  },
  {
   "cell_type": "code",
   "execution_count": 6,
   "metadata": {},
   "outputs": [
    {
     "data": {
      "text/plain": [
       "18"
      ]
     },
     "execution_count": 6,
     "metadata": {},
     "output_type": "execute_result"
    }
   ],
   "source": [
    "# Second to last element selection\n",
    "array[-2]"
   ]
  },
  {
   "cell_type": "markdown",
   "metadata": {},
   "source": [
    "## Exercise: 2-dimensional selection\n",
    "\n",
    "Write expressions to select the following elements from the array.\n",
    "\n",
    "1. scalar value at coordinates `[3, 6]`\n",
    "1. top-left scalar value\n",
    "1. first row\n",
    "1. first column\n",
    "1. second column\n",
    "1. last column\n",
    "1. first 5 columns\n",
    "1. last 5 columns\n",
    "1. top-left 2 x 2 square\n",
    "1. top-right 2 x 2 square\n",
    "1. last 5 rows from every other column"
   ]
  },
  {
   "cell_type": "code",
   "execution_count": 2,
   "metadata": {},
   "outputs": [
    {
     "data": {
      "text/plain": [
       "array([[  0,   1,   2,   3,   4,   5,   6,   7,   8,   9,  10,  11,  12,\n",
       "         13,  14,  15,  16,  17,  18,  19],\n",
       "       [ 20,  21,  22,  23,  24,  25,  26,  27,  28,  29,  30,  31,  32,\n",
       "         33,  34,  35,  36,  37,  38,  39],\n",
       "       [ 40,  41,  42,  43,  44,  45,  46,  47,  48,  49,  50,  51,  52,\n",
       "         53,  54,  55,  56,  57,  58,  59],\n",
       "       [ 60,  61,  62,  63,  64,  65,  66,  67,  68,  69,  70,  71,  72,\n",
       "         73,  74,  75,  76,  77,  78,  79],\n",
       "       [ 80,  81,  82,  83,  84,  85,  86,  87,  88,  89,  90,  91,  92,\n",
       "         93,  94,  95,  96,  97,  98,  99],\n",
       "       [100, 101, 102, 103, 104, 105, 106, 107, 108, 109, 110, 111, 112,\n",
       "        113, 114, 115, 116, 117, 118, 119],\n",
       "       [120, 121, 122, 123, 124, 125, 126, 127, 128, 129, 130, 131, 132,\n",
       "        133, 134, 135, 136, 137, 138, 139],\n",
       "       [140, 141, 142, 143, 144, 145, 146, 147, 148, 149, 150, 151, 152,\n",
       "        153, 154, 155, 156, 157, 158, 159],\n",
       "       [160, 161, 162, 163, 164, 165, 166, 167, 168, 169, 170, 171, 172,\n",
       "        173, 174, 175, 176, 177, 178, 179],\n",
       "       [180, 181, 182, 183, 184, 185, 186, 187, 188, 189, 190, 191, 192,\n",
       "        193, 194, 195, 196, 197, 198, 199],\n",
       "       [200, 201, 202, 203, 204, 205, 206, 207, 208, 209, 210, 211, 212,\n",
       "        213, 214, 215, 216, 217, 218, 219],\n",
       "       [220, 221, 222, 223, 224, 225, 226, 227, 228, 229, 230, 231, 232,\n",
       "        233, 234, 235, 236, 237, 238, 239],\n",
       "       [240, 241, 242, 243, 244, 245, 246, 247, 248, 249, 250, 251, 252,\n",
       "        253, 254, 255, 256, 257, 258, 259],\n",
       "       [260, 261, 262, 263, 264, 265, 266, 267, 268, 269, 270, 271, 272,\n",
       "        273, 274, 275, 276, 277, 278, 279],\n",
       "       [280, 281, 282, 283, 284, 285, 286, 287, 288, 289, 290, 291, 292,\n",
       "        293, 294, 295, 296, 297, 298, 299],\n",
       "       [300, 301, 302, 303, 304, 305, 306, 307, 308, 309, 310, 311, 312,\n",
       "        313, 314, 315, 316, 317, 318, 319],\n",
       "       [320, 321, 322, 323, 324, 325, 326, 327, 328, 329, 330, 331, 332,\n",
       "        333, 334, 335, 336, 337, 338, 339],\n",
       "       [340, 341, 342, 343, 344, 345, 346, 347, 348, 349, 350, 351, 352,\n",
       "        353, 354, 355, 356, 357, 358, 359],\n",
       "       [360, 361, 362, 363, 364, 365, 366, 367, 368, 369, 370, 371, 372,\n",
       "        373, 374, 375, 376, 377, 378, 379],\n",
       "       [380, 381, 382, 383, 384, 385, 386, 387, 388, 389, 390, 391, 392,\n",
       "        393, 394, 395, 396, 397, 398, 399]])"
      ]
     },
     "execution_count": 2,
     "metadata": {},
     "output_type": "execute_result"
    }
   ],
   "source": [
    "array = np.arange(20 * 20).reshape(20, 20)\n",
    "array"
   ]
  },
  {
   "cell_type": "code",
   "execution_count": 43,
   "metadata": {},
   "outputs": [
    {
     "data": {
      "text/plain": [
       "66"
      ]
     },
     "execution_count": 43,
     "metadata": {},
     "output_type": "execute_result"
    }
   ],
   "source": [
    "# Element at a given coordinate\n",
    "array[(3,6)]"
   ]
  },
  {
   "cell_type": "code",
   "execution_count": 44,
   "metadata": {},
   "outputs": [
    {
     "data": {
      "text/plain": [
       "0"
      ]
     },
     "execution_count": 44,
     "metadata": {},
     "output_type": "execute_result"
    }
   ],
   "source": [
    "# Top left scalar value(0,0)\n",
    "array[(0,0)]"
   ]
  },
  {
   "cell_type": "code",
   "execution_count": 46,
   "metadata": {},
   "outputs": [
    {
     "data": {
      "text/plain": [
       "array([ 0,  1,  2,  3,  4,  5,  6,  7,  8,  9, 10, 11, 12, 13, 14, 15, 16,\n",
       "       17, 18, 19])"
      ]
     },
     "execution_count": 46,
     "metadata": {},
     "output_type": "execute_result"
    }
   ],
   "source": [
    "# First Row\n",
    "array[0]"
   ]
  },
  {
   "cell_type": "code",
   "execution_count": 49,
   "metadata": {},
   "outputs": [
    {
     "data": {
      "text/plain": [
       "array([  0,  20,  40,  60,  80, 100, 120, 140, 160, 180, 200, 220, 240,\n",
       "       260, 280, 300, 320, 340, 360, 380])"
      ]
     },
     "execution_count": 49,
     "metadata": {},
     "output_type": "execute_result"
    }
   ],
   "source": [
    "# First Column\n",
    "\n",
    "array[:,0]"
   ]
  },
  {
   "cell_type": "code",
   "execution_count": 50,
   "metadata": {},
   "outputs": [
    {
     "data": {
      "text/plain": [
       "array([  1,  21,  41,  61,  81, 101, 121, 141, 161, 181, 201, 221, 241,\n",
       "       261, 281, 301, 321, 341, 361, 381])"
      ]
     },
     "execution_count": 50,
     "metadata": {},
     "output_type": "execute_result"
    }
   ],
   "source": [
    "# Second Column\n",
    "\n",
    "array[:,1]"
   ]
  },
  {
   "cell_type": "code",
   "execution_count": 3,
   "metadata": {},
   "outputs": [
    {
     "data": {
      "text/plain": [
       "array([ 19,  39,  59,  79,  99, 119, 139, 159, 179, 199, 219, 239, 259,\n",
       "       279, 299, 319, 339, 359, 379, 399])"
      ]
     },
     "execution_count": 3,
     "metadata": {},
     "output_type": "execute_result"
    }
   ],
   "source": [
    "# last Column\n",
    "\n",
    "array[:,-1]"
   ]
  },
  {
   "cell_type": "code",
   "execution_count": 10,
   "metadata": {},
   "outputs": [
    {
     "data": {
      "text/plain": [
       "array([[  0,   1,   2,   3,   4],\n",
       "       [ 20,  21,  22,  23,  24],\n",
       "       [ 40,  41,  42,  43,  44],\n",
       "       [ 60,  61,  62,  63,  64],\n",
       "       [ 80,  81,  82,  83,  84],\n",
       "       [100, 101, 102, 103, 104],\n",
       "       [120, 121, 122, 123, 124],\n",
       "       [140, 141, 142, 143, 144],\n",
       "       [160, 161, 162, 163, 164],\n",
       "       [180, 181, 182, 183, 184],\n",
       "       [200, 201, 202, 203, 204],\n",
       "       [220, 221, 222, 223, 224],\n",
       "       [240, 241, 242, 243, 244],\n",
       "       [260, 261, 262, 263, 264],\n",
       "       [280, 281, 282, 283, 284],\n",
       "       [300, 301, 302, 303, 304],\n",
       "       [320, 321, 322, 323, 324],\n",
       "       [340, 341, 342, 343, 344],\n",
       "       [360, 361, 362, 363, 364],\n",
       "       [380, 381, 382, 383, 384]])"
      ]
     },
     "execution_count": 10,
     "metadata": {},
     "output_type": "execute_result"
    }
   ],
   "source": [
    "# First 5 columns\n",
    "array[:,:5]"
   ]
  },
  {
   "cell_type": "code",
   "execution_count": 9,
   "metadata": {},
   "outputs": [
    {
     "data": {
      "text/plain": [
       "array([[ 15,  16,  17,  18,  19],\n",
       "       [ 35,  36,  37,  38,  39],\n",
       "       [ 55,  56,  57,  58,  59],\n",
       "       [ 75,  76,  77,  78,  79],\n",
       "       [ 95,  96,  97,  98,  99],\n",
       "       [115, 116, 117, 118, 119],\n",
       "       [135, 136, 137, 138, 139],\n",
       "       [155, 156, 157, 158, 159],\n",
       "       [175, 176, 177, 178, 179],\n",
       "       [195, 196, 197, 198, 199],\n",
       "       [215, 216, 217, 218, 219],\n",
       "       [235, 236, 237, 238, 239],\n",
       "       [255, 256, 257, 258, 259],\n",
       "       [275, 276, 277, 278, 279],\n",
       "       [295, 296, 297, 298, 299],\n",
       "       [315, 316, 317, 318, 319],\n",
       "       [335, 336, 337, 338, 339],\n",
       "       [355, 356, 357, 358, 359],\n",
       "       [375, 376, 377, 378, 379],\n",
       "       [395, 396, 397, 398, 399]])"
      ]
     },
     "execution_count": 9,
     "metadata": {},
     "output_type": "execute_result"
    }
   ],
   "source": [
    "# last 5 columns\n",
    "array[:,-5:]"
   ]
  },
  {
   "cell_type": "code",
   "execution_count": 11,
   "metadata": {},
   "outputs": [
    {
     "data": {
      "text/plain": [
       "array([[ 0,  1],\n",
       "       [20, 21]])"
      ]
     },
     "execution_count": 11,
     "metadata": {},
     "output_type": "execute_result"
    }
   ],
   "source": [
    "# Top left square(first 2 rows and first 2 columns)\n",
    "array[:2,:2]"
   ]
  },
  {
   "cell_type": "code",
   "execution_count": 16,
   "metadata": {},
   "outputs": [
    {
     "data": {
      "text/plain": [
       "array([[18, 19],\n",
       "       [38, 39]])"
      ]
     },
     "execution_count": 16,
     "metadata": {},
     "output_type": "execute_result"
    }
   ],
   "source": [
    "# Top right Square (second last and last row,second last column and last column)\n",
    "array[0:2,18:]"
   ]
  },
  {
   "cell_type": "code",
   "execution_count": 17,
   "metadata": {},
   "outputs": [
    {
     "data": {
      "text/plain": [
       "array([[300, 302, 304, 306, 308, 310, 312, 314, 316, 318],\n",
       "       [320, 322, 324, 326, 328, 330, 332, 334, 336, 338],\n",
       "       [340, 342, 344, 346, 348, 350, 352, 354, 356, 358],\n",
       "       [360, 362, 364, 366, 368, 370, 372, 374, 376, 378],\n",
       "       [380, 382, 384, 386, 388, 390, 392, 394, 396, 398]])"
      ]
     },
     "execution_count": 17,
     "metadata": {},
     "output_type": "execute_result"
    }
   ],
   "source": [
    "#Last 5 rows from every other column(Little Confusing while understand what exactly is required)\n",
    "\n",
    "array[15:,::2]"
   ]
  },
  {
   "cell_type": "markdown",
   "metadata": {},
   "source": [
    "## Exercise: N-dimensional selection"
   ]
  },
  {
   "cell_type": "markdown",
   "metadata": {},
   "source": [
    "## Exercise: Selections with boolean arrays."
   ]
  },
  {
   "cell_type": "code",
   "execution_count": 19,
   "metadata": {
    "collapsed": true
   },
   "outputs": [],
   "source": [
    "array = rand.normal(0, 1, 50)"
   ]
  },
  {
   "cell_type": "markdown",
   "metadata": {},
   "source": [
    "Write an expression to select the positive values from the array."
   ]
  },
  {
   "cell_type": "code",
   "execution_count": 20,
   "metadata": {},
   "outputs": [
    {
     "data": {
      "text/plain": [
       "array([0.49671415, 0.64768854, 1.52302986, 1.57921282, 0.76743473,\n",
       "       0.54256004, 0.24196227, 0.31424733, 1.46564877, 0.0675282 ,\n",
       "       0.11092259, 0.37569802, 1.85227818, 0.82254491, 0.2088636 ,\n",
       "       0.19686124, 0.73846658, 0.17136828, 1.05712223, 0.34361829])"
      ]
     },
     "execution_count": 20,
     "metadata": {},
     "output_type": "execute_result"
    }
   ],
   "source": [
    "# For Positive Values,use a boolean mask on the array if grater than 0\n",
    "array[array>0]"
   ]
  },
  {
   "cell_type": "markdown",
   "metadata": {},
   "source": [
    "Write an expression to select the values less than -1 **or** greater than 1.5."
   ]
  },
  {
   "cell_type": "code",
   "execution_count": 22,
   "metadata": {
    "collapsed": true
   },
   "outputs": [],
   "source": [
    "array = rand.normal(0, 1, 50)"
   ]
  },
  {
   "cell_type": "code",
   "execution_count": 26,
   "metadata": {},
   "outputs": [
    {
     "data": {
      "text/plain": [
       "array([-1.41537074,  1.8861859 , -1.91877122,  2.46324211, -1.16867804,\n",
       "       -1.40185106,  2.19045563, -1.55066343, -1.06230371,  1.54993441,\n",
       "       -1.23086432, -1.60748323, -1.23695071, -1.32045661])"
      ]
     },
     "execution_count": 26,
     "metadata": {},
     "output_type": "execute_result"
    }
   ],
   "source": [
    "# Boolean masking with or condition.Use normla or condition like in python list\n",
    "\n",
    "array[(array<-1) | (array>1.5)]"
   ]
  },
  {
   "cell_type": "markdown",
   "metadata": {},
   "source": [
    "Write an expression that produces the value from `array` if the value is positive, and produces the **square** of the value if it's negative."
   ]
  },
  {
   "cell_type": "code",
   "execution_count": 29,
   "metadata": {
    "collapsed": true
   },
   "outputs": [],
   "source": [
    "array = np.arange(-5, 5)"
   ]
  },
  {
   "cell_type": "code",
   "execution_count": 31,
   "metadata": {},
   "outputs": [
    {
     "data": {
      "text/plain": [
       "array([25, 16,  9,  4,  1,  0,  1,  2,  3,  4])"
      ]
     },
     "execution_count": 31,
     "metadata": {},
     "output_type": "execute_result"
    }
   ],
   "source": [
    "# np.where?\n",
    "#Use the np.where to do this.it expects 3 params.The first condition,arrayto return the data from and if the condition\n",
    "# Fails then what value to return\n",
    "\n",
    "np.where(array>1,array,array**2)"
   ]
  },
  {
   "cell_type": "markdown",
   "metadata": {},
   "source": [
    "## Exercise: \"FizzBuzz\"\n",
    "\n",
    "Write an expression that converts `array` into a new array of the same shape according to the following rules:\n",
    "\n",
    "At each index `[i]`\n",
    "\n",
    "- if `array[i]` is divisible by 3: `result[i]` should hold -1\n",
    "- if `array[i]` is divisible by 5: `result[i]` should hold -2\n",
    "- if `array[i]` is divisible by 15, `result[i]` should hold -3\n",
    "- otherwise:`result[i]` should hold `array[i]`\n",
    "\n",
    "(**Hint:** `np.select` works like `np.where`, but it can select from more than two arrays.)"
   ]
  },
  {
   "cell_type": "code",
   "execution_count": 62,
   "metadata": {
    "collapsed": true
   },
   "outputs": [],
   "source": [
    "array = np.arange(1, 100)"
   ]
  },
  {
   "cell_type": "code",
   "execution_count": 74,
   "metadata": {},
   "outputs": [
    {
     "data": {
      "text/plain": [
       "array([[[ 1,  2, -1],\n",
       "        [ 4, -2, -1],\n",
       "        [ 7,  8, -1],\n",
       "        [-2, 11, -1],\n",
       "        [13, 14, -1],\n",
       "        [16, 17, -1],\n",
       "        [19, -2, -1],\n",
       "        [22, 23, -1],\n",
       "        [-2, 26, -1],\n",
       "        [28, 29, -1],\n",
       "        [31, 32, -1]],\n",
       "\n",
       "       [[34, -2, -1],\n",
       "        [37, 38, -1],\n",
       "        [-2, 41, -1],\n",
       "        [43, 44, -1],\n",
       "        [46, 47, -1],\n",
       "        [49, -2, -1],\n",
       "        [52, 53, -1],\n",
       "        [-2, 56, -1],\n",
       "        [58, 59, -1],\n",
       "        [61, 62, -1],\n",
       "        [64, -2, -1]],\n",
       "\n",
       "       [[67, 68, -1],\n",
       "        [-2, 71, -1],\n",
       "        [73, 74, -1],\n",
       "        [76, 77, -1],\n",
       "        [79, -2, -1],\n",
       "        [82, 83, -1],\n",
       "        [-2, 86, -1],\n",
       "        [88, 89, -1],\n",
       "        [91, 92, -1],\n",
       "        [94, -2, -1],\n",
       "        [97, 98, -1]]])"
      ]
     },
     "execution_count": 74,
     "metadata": {},
     "output_type": "execute_result"
    }
   ],
   "source": [
    "# ?np.select\n",
    "# This can be done in multiple ways.We can also use the choose function which essentially does the same thing\n",
    "conditionlist=[(array%3)==0,(array%5)==0,(((array%3)==0) & ((array%5)==0))]\n",
    "\n",
    "choicelist=[-1,-2,-3]\n",
    "\n",
    "np.select(conditionlist, choicelist, array)"
   ]
  },
  {
   "cell_type": "markdown",
   "metadata": {},
   "source": [
    "## Exercise: N-dimensional FizzBuzz\n",
    "\n",
    "Same rules as above, but on a 3-dimensional array. (HINT: It's possible to write a solution that works for this exercise and the previous one.)"
   ]
  },
  {
   "cell_type": "code",
   "execution_count": 69,
   "metadata": {
    "collapsed": true
   },
   "outputs": [],
   "source": [
    "array = np.arange(1, 100).reshape(3, 11, 3)"
   ]
  },
  {
   "cell_type": "code",
   "execution_count": 71,
   "metadata": {},
   "outputs": [
    {
     "data": {
      "text/plain": [
       "array([[[ 1,  2, -1],\n",
       "        [ 4, -2, -1],\n",
       "        [ 7,  8, -1],\n",
       "        [-2, 11, -1],\n",
       "        [13, 14, -1],\n",
       "        [16, 17, -1],\n",
       "        [19, -2, -1],\n",
       "        [22, 23, -1],\n",
       "        [-2, 26, -1],\n",
       "        [28, 29, -1],\n",
       "        [31, 32, -1]],\n",
       "\n",
       "       [[34, -2, -1],\n",
       "        [37, 38, -1],\n",
       "        [-2, 41, -1],\n",
       "        [43, 44, -1],\n",
       "        [46, 47, -1],\n",
       "        [49, -2, -1],\n",
       "        [52, 53, -1],\n",
       "        [-2, 56, -1],\n",
       "        [58, 59, -1],\n",
       "        [61, 62, -1],\n",
       "        [64, -2, -1]],\n",
       "\n",
       "       [[67, 68, -1],\n",
       "        [-2, 71, -1],\n",
       "        [73, 74, -1],\n",
       "        [76, 77, -1],\n",
       "        [79, -2, -1],\n",
       "        [82, 83, -1],\n",
       "        [-2, 86, -1],\n",
       "        [88, 89, -1],\n",
       "        [91, 92, -1],\n",
       "        [94, -2, -1],\n",
       "        [97, 98, -1]]])"
      ]
     },
     "execution_count": 71,
     "metadata": {},
     "output_type": "execute_result"
    }
   ],
   "source": [
    "conditionlist=[(array%3)==0,(array%5)==0,(array%15)==0]\n",
    "\n",
    "choicelist=[-1,-2,-3]\n",
    "\n",
    "np.select(conditionlist,choicelist,array)"
   ]
  },
  {
   "cell_type": "code",
   "execution_count": null,
   "metadata": {
    "collapsed": true
   },
   "outputs": [],
   "source": []
  }
 ],
 "metadata": {
  "kernelspec": {
   "display_name": "Python 3",
   "language": "python",
   "name": "python3"
  },
  "language_info": {
   "codemirror_mode": {
    "name": "ipython",
    "version": 3
   },
   "file_extension": ".py",
   "mimetype": "text/x-python",
   "name": "python",
   "nbconvert_exporter": "python",
   "pygments_lexer": "ipython3",
   "version": "3.6.3"
  }
 },
 "nbformat": 4,
 "nbformat_minor": 2
}
