{
 "cells": [
  {
   "cell_type": "markdown",
   "metadata": {},
   "source": [
    "# Implementing Convolution with Strided Memory\n",
    "\n",
    "This is a bonus notebook that shows how we can implement [convolution for image processing](https://en.wikipedia.org/wiki/Kernel_(image_processing) simply (if somewhat inefficiently) using strided memory to create \"virtual\" arrays against which to apply a convolution kernel."
   ]
  },
  {
   "cell_type": "code",
   "execution_count": 1,
   "metadata": {
    "collapsed": true
   },
   "outputs": [],
   "source": [
    "from scipy.signal import convolve2d"
   ]
  },
  {
   "cell_type": "code",
   "execution_count": 2,
   "metadata": {
    "collapsed": true
   },
   "outputs": [],
   "source": [
    "import numpy as np\n",
    "from matplotlib.pyplot import imshow\n",
    "from numpy.lib.stride_tricks import as_strided\n",
    "\n",
    "\n",
    "def extrude_for_convolution(data, kernel):\n",
    "    # Indices of the top left corner of the last window.\n",
    "    last_row = data.shape[0] - (kernel.shape[0])\n",
    "    last_col = data.shape[1] - (kernel.shape[1])\n",
    "\n",
    "    num_windows = last_row * data.shape[1] + last_col + 1\n",
    "\n",
    "    shape = (num_windows,) + kernel.shape\n",
    "    strides = (data.strides[1],) + data.strides\n",
    "\n",
    "    # This is where the magic happens.\n",
    "    windows = as_strided(data, shape=shape, strides=strides)\n",
    "    \n",
    "    # Return a mask that tells us which windows are \"split\" across multiple rows.\n",
    "    valid = np.arange(num_windows) % data.shape[1] <= last_col\n",
    "\n",
    "    return windows, valid\n",
    "\n",
    "\n",
    "def convolve_2d(data, kernel):\n",
    "    windows, valid = extrude_for_convolution(data, kernel)\n",
    "\n",
    "    # A 1D array containing the results of multiplying each window by the\n",
    "    # convolution kernel.\n",
    "    multiplication_results = np.tensordot(windows, kernel)[valid]\n",
    "\n",
    "    return multiplication_results.reshape(data.shape[0] - kernel.shape[0] + 1,\n",
    "                                          data.shape[1] - kernel.shape[1] + 1)"
   ]
  },
  {
   "cell_type": "code",
   "execution_count": 3,
   "metadata": {},
   "outputs": [
    {
     "data": {
      "text/plain": [
       "(328, 400)"
      ]
     },
     "execution_count": 3,
     "metadata": {},
     "output_type": "execute_result"
    }
   ],
   "source": [
    "image = np.load('images/horse.npy')\n",
    "image.shape"
   ]
  },
  {
   "cell_type": "code",
   "execution_count": 4,
   "metadata": {},
   "outputs": [
    {
     "data": {
      "text/plain": [
       "<matplotlib.image.AxesImage at 0x7f5794b18908>"
      ]
     },
     "execution_count": 4,
     "metadata": {},
     "output_type": "execute_result"
    }
   ],
   "source": [
    "imshow(image)"
   ]
  },
  {
   "cell_type": "markdown",
   "metadata": {},
   "source": [
    "We can convolve the image with a gaussian kernel to add a blurring effect:"
   ]
  },
  {
   "cell_type": "code",
   "execution_count": 5,
   "metadata": {},
   "outputs": [
    {
     "data": {
      "text/plain": [
       "array([[0.09135621, 0.12098856, 0.09135621],\n",
       "       [0.12098856, 0.15062092, 0.12098856],\n",
       "       [0.09135621, 0.12098856, 0.09135621]])"
      ]
     },
     "execution_count": 5,
     "metadata": {},
     "output_type": "execute_result"
    }
   ],
   "source": [
    "from scipy.signal import gaussian\n",
    "\n",
    "blur_kernel = gaussian(3, 1) + gaussian(3, 1)[:, np.newaxis]\n",
    "blur_kernel /= blur_kernel.sum()\n",
    "blur_kernel"
   ]
  },
  {
   "cell_type": "code",
   "execution_count": 6,
   "metadata": {},
   "outputs": [],
   "source": [
    "blurred = convolve_2d(image, blur_kernel)\n",
    "imshow(blurred);"
   ]
  },
  {
   "cell_type": "markdown",
   "metadata": {},
   "source": [
    "We can use other kernels to get other effects:"
   ]
  },
  {
   "cell_type": "code",
   "execution_count": 7,
   "metadata": {},
   "outputs": [
    {
     "data": {
      "text/plain": [
       "array([[-1, -1, -1],\n",
       "       [-1,  8, -1],\n",
       "       [-1, -1, -1]])"
      ]
     },
     "execution_count": 7,
     "metadata": {},
     "output_type": "execute_result"
    }
   ],
   "source": [
    "kernel = np.full((3, 3), -1)\n",
    "kernel[1, 1] = 8\n",
    "kernel"
   ]
  },
  {
   "cell_type": "code",
   "execution_count": 8,
   "metadata": {},
   "outputs": [
    {
     "data": {
      "text/plain": [
       "<matplotlib.image.AxesImage at 0x7f5794aa7240>"
      ]
     },
     "execution_count": 8,
     "metadata": {},
     "output_type": "execute_result"
    }
   ],
   "source": [
    "imshow(convolve_2d(image, kernel))"
   ]
  },
  {
   "cell_type": "code",
   "execution_count": null,
   "metadata": {
    "collapsed": true
   },
   "outputs": [],
   "source": []
  },
  {
   "cell_type": "code",
   "execution_count": null,
   "metadata": {
    "collapsed": true
   },
   "outputs": [],
   "source": []
  }
 ],
 "metadata": {
  "kernelspec": {
   "display_name": "Python 3",
   "language": "python",
   "name": "python3"
  },
  "language_info": {
   "codemirror_mode": {
    "name": "ipython",
    "version": 3
   },
   "file_extension": ".py",
   "mimetype": "text/x-python",
   "name": "python",
   "nbconvert_exporter": "python",
   "pygments_lexer": "ipython3",
   "version": "3.6.3"
  }
 },
 "nbformat": 4,
 "nbformat_minor": 2
}
