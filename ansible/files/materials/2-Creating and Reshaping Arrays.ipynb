{
 "cells": [
  {
   "cell_type": "markdown",
   "metadata": {},
   "source": [
    "# Creating and Reshaping Arrays\n",
    "\n",
    "The exercises in this notebook will teach you to use a variety of common functions for creating and reshaping arrays."
   ]
  },
  {
   "cell_type": "code",
   "execution_count": 1,
   "metadata": {
    "collapsed": true
   },
   "outputs": [],
   "source": [
    "import numpy as np\n",
    "import matplotlib.pyplot as plt"
   ]
  },
  {
   "cell_type": "markdown",
   "metadata": {},
   "source": [
    "## `np.array`\n",
    "\n",
    "The most common way to create an array is to construct one from a python list.\n",
    "\n",
    "**Example:** Passing a list of scalars produces a 1-dimensional array."
   ]
  },
  {
   "cell_type": "code",
   "execution_count": 2,
   "metadata": {},
   "outputs": [
    {
     "data": {
      "text/plain": [
       "array([1, 2, 3])"
      ]
     },
     "execution_count": 2,
     "metadata": {},
     "output_type": "execute_result"
    }
   ],
   "source": [
    "'''Use np.array to create our new numpy array'''\n",
    "np.array([1, 2, 3])"
   ]
  },
  {
   "cell_type": "markdown",
   "metadata": {},
   "source": [
    "**Example:** Passing a list of lists produces a 2-dimensional array."
   ]
  },
  {
   "cell_type": "code",
   "execution_count": 5,
   "metadata": {},
   "outputs": [
    {
     "data": {
      "text/plain": [
       "array([[1, 2],\n",
       "       [2, 3]])"
      ]
     },
     "execution_count": 5,
     "metadata": {},
     "output_type": "execute_result"
    }
   ],
   "source": [
    "'''If we pass a lists of lists to no,it creates our 2x2 structure.This can be done for nxn also'''\n",
    "np.array([[1, 2], \n",
    "          [2, 3]])"
   ]
  },
  {
   "cell_type": "markdown",
   "metadata": {},
   "source": [
    "**Exercise:** Create a 1-dimensional array using `np.array` containing `[1, 2, 3, 4]`."
   ]
  },
  {
   "cell_type": "code",
   "execution_count": 3,
   "metadata": {},
   "outputs": [
    {
     "data": {
      "text/plain": [
       "array([1, 2, 3, 4])"
      ]
     },
     "execution_count": 3,
     "metadata": {},
     "output_type": "execute_result"
    }
   ],
   "source": [
    "'''For this,we can use 3 different methods.We can use the arange(simillar to range in python,\n",
    "pass in a normal python list) or create a new array'''\n",
    "\n",
    "np.arange(1,5)\n",
    "np.asarray([1,2,3,4])\n",
    "np.array([1,2,3,4])"
   ]
  },
  {
   "cell_type": "markdown",
   "metadata": {},
   "source": [
    "**Exercise:** Create a 2-dimensional array using `np.array` with two rows containing  `[1, 2, 3]` and `[4, 5, 6]`."
   ]
  },
  {
   "cell_type": "code",
   "execution_count": 12,
   "metadata": {},
   "outputs": [
    {
     "data": {
      "text/plain": [
       "array([[1, 2, 3],\n",
       "       [4, 5, 6]])"
      ]
     },
     "execution_count": 12,
     "metadata": {},
     "output_type": "execute_result"
    }
   ],
   "source": [
    "'''If we pass a lists of lists to no,it creates our 2x2 structure.This can be done for nxn also'''\n",
    "np.array([[1,2,3],[4,5,6]])"
   ]
  },
  {
   "cell_type": "markdown",
   "metadata": {},
   "source": [
    "## `np.arange`"
   ]
  },
  {
   "cell_type": "markdown",
   "metadata": {},
   "source": [
    "**Exercise:** Construct an array containing values from 0 to 9, inclusive, in ascending order."
   ]
  },
  {
   "cell_type": "code",
   "execution_count": 13,
   "metadata": {},
   "outputs": [
    {
     "data": {
      "text/plain": [
       "array([0, 1, 2, 3, 4, 5, 6, 7, 8, 9])"
      ]
     },
     "execution_count": 13,
     "metadata": {},
     "output_type": "execute_result"
    }
   ],
   "source": [
    "'''np.arange function is simillar to the range function as it gives us the same output which the range function gives\n",
    "us in pure python'''\n",
    "\n",
    "np.arange(10)"
   ]
  },
  {
   "cell_type": "markdown",
   "metadata": {},
   "source": [
    "**Exercise:** Construct an array containing all the integers between 1 and 3 inclusive, in ascending order."
   ]
  },
  {
   "cell_type": "code",
   "execution_count": 17,
   "metadata": {},
   "outputs": [
    {
     "data": {
      "text/plain": [
       "array([1, 2, 3])"
      ]
     },
     "execution_count": 17,
     "metadata": {},
     "output_type": "execute_result"
    }
   ],
   "source": [
    "'''Linspace is used to return evenly spaced integers between 2 endpoints.It also has a 3rd argument which specifies the\n",
    "number of outputs to return.If not specified,it returns the numbers separated by a 1'''\n",
    "\n",
    "np.linspace(1,3)\n",
    "np.arange(1,4)"
   ]
  },
  {
   "cell_type": "markdown",
   "metadata": {},
   "source": [
    "**Exercise:** Construct an array containing all the integers between 5 and 10 inclusive, in ascending order."
   ]
  },
  {
   "cell_type": "code",
   "execution_count": 19,
   "metadata": {},
   "outputs": [
    {
     "data": {
      "text/plain": [
       "array([ 5,  6,  7,  8,  9, 10])"
      ]
     },
     "execution_count": 19,
     "metadata": {},
     "output_type": "execute_result"
    }
   ],
   "source": [
    "np.linspace(5,10)\n",
    "np.arange(5,11)"
   ]
  },
  {
   "cell_type": "markdown",
   "metadata": {},
   "source": [
    "**Exercise:** Construct an array containing all the integers between 1 and 10 inclusive, in descending order."
   ]
  },
  {
   "cell_type": "code",
   "execution_count": 105,
   "metadata": {},
   "outputs": [
    {
     "data": {
      "text/plain": [
       "array([10,  9,  8,  7,  6,  5,  4,  3,  2,  1])"
      ]
     },
     "execution_count": 105,
     "metadata": {},
     "output_type": "execute_result"
    }
   ],
   "source": [
    "'''Aragen function with the step parameter(negative) in this case'''\n",
    "np.arange(10,0,-1)"
   ]
  },
  {
   "cell_type": "markdown",
   "metadata": {},
   "source": [
    "**Exercise:** Construct an array containing all the **even** integers between 2 and 10 inclusive, in ascending order."
   ]
  },
  {
   "cell_type": "code",
   "execution_count": 21,
   "metadata": {},
   "outputs": [
    {
     "data": {
      "text/plain": [
       "array([ 2,  4,  6,  8, 10])"
      ]
     },
     "execution_count": 21,
     "metadata": {},
     "output_type": "execute_result"
    }
   ],
   "source": [
    "'''Positive step parameter'''\n",
    "np.arange(2,12,2)"
   ]
  },
  {
   "cell_type": "markdown",
   "metadata": {},
   "source": [
    "## `linspace`"
   ]
  },
  {
   "cell_type": "markdown",
   "metadata": {},
   "source": [
    "**Exercise:** Construct an array containing 50 evenly-spaced values between -1 and 1."
   ]
  },
  {
   "cell_type": "code",
   "execution_count": 4,
   "metadata": {},
   "outputs": [
    {
     "data": {
      "text/plain": [
       "array([-1.        , -0.95918367, -0.91836735, -0.87755102, -0.83673469,\n",
       "       -0.79591837, -0.75510204, -0.71428571, -0.67346939, -0.63265306,\n",
       "       -0.59183673, -0.55102041, -0.51020408, -0.46938776, -0.42857143,\n",
       "       -0.3877551 , -0.34693878, -0.30612245, -0.26530612, -0.2244898 ,\n",
       "       -0.18367347, -0.14285714, -0.10204082, -0.06122449, -0.02040816,\n",
       "        0.02040816,  0.06122449,  0.10204082,  0.14285714,  0.18367347,\n",
       "        0.2244898 ,  0.26530612,  0.30612245,  0.34693878,  0.3877551 ,\n",
       "        0.42857143,  0.46938776,  0.51020408,  0.55102041,  0.59183673,\n",
       "        0.63265306,  0.67346939,  0.71428571,  0.75510204,  0.79591837,\n",
       "        0.83673469,  0.87755102,  0.91836735,  0.95918367,  1.        ])"
      ]
     },
     "execution_count": 4,
     "metadata": {},
     "output_type": "execute_result"
    }
   ],
   "source": [
    "# np.linspace?\n",
    "np.linspace(-1,1)"
   ]
  },
  {
   "cell_type": "markdown",
   "metadata": {},
   "source": [
    "## Exercise: `zeros`, `ones`, and `full`"
   ]
  },
  {
   "cell_type": "markdown",
   "metadata": {},
   "source": [
    "**Exercise:** Construct arrays with the following shapes and values:\n",
    "- 1-dimensional array with 10 entries, all containing the value 0.\n",
    "- 2-dimensional array with 3 rows and 5 columns, all containing the value 1.\n",
    "- 2-dimensional array with 5 rows and 3 columns, all containing the value 2.\n",
    "- 3-dimensional array of shape (2, 5, 10), all containing the value 0.\n",
    "- 5-dimensional array of shape (1, 2, 3, 4, 5), all containing the value 42."
   ]
  },
  {
   "cell_type": "code",
   "execution_count": 7,
   "metadata": {},
   "outputs": [
    {
     "data": {
      "text/plain": [
       "array([0., 0., 0., 0., 0., 0., 0., 0., 0., 0.])"
      ]
     },
     "execution_count": 7,
     "metadata": {},
     "output_type": "execute_result"
    }
   ],
   "source": [
    "'''This function is used to create an array of zeroes with a given shape'''\n",
    "np.zeros(10)"
   ]
  },
  {
   "cell_type": "code",
   "execution_count": 8,
   "metadata": {},
   "outputs": [
    {
     "data": {
      "text/plain": [
       "array([[1., 1., 1., 1., 1.],\n",
       "       [1., 1., 1., 1., 1.],\n",
       "       [1., 1., 1., 1., 1.]])"
      ]
     },
     "execution_count": 8,
     "metadata": {},
     "output_type": "execute_result"
    }
   ],
   "source": [
    "'''This function is used to create an array of ones with a given shape'''\n",
    "np.ones((3,5))"
   ]
  },
  {
   "cell_type": "code",
   "execution_count": 5,
   "metadata": {},
   "outputs": [
    {
     "data": {
      "text/plain": [
       "array([[2, 2, 2],\n",
       "       [2, 2, 2],\n",
       "       [2, 2, 2],\n",
       "       [2, 2, 2],\n",
       "       [2, 2, 2]])"
      ]
     },
     "execution_count": 5,
     "metadata": {},
     "output_type": "execute_result"
    }
   ],
   "source": [
    "'''This function is used to create an array of a given shape with a single value filled in it'''\n",
    "np.full((5,3),2)"
   ]
  },
  {
   "cell_type": "code",
   "execution_count": 6,
   "metadata": {},
   "outputs": [
    {
     "data": {
      "text/plain": [
       "array([[[0., 0., 0., 0., 0., 0., 0., 0., 0., 0.],\n",
       "        [0., 0., 0., 0., 0., 0., 0., 0., 0., 0.],\n",
       "        [0., 0., 0., 0., 0., 0., 0., 0., 0., 0.],\n",
       "        [0., 0., 0., 0., 0., 0., 0., 0., 0., 0.],\n",
       "        [0., 0., 0., 0., 0., 0., 0., 0., 0., 0.]],\n",
       "\n",
       "       [[0., 0., 0., 0., 0., 0., 0., 0., 0., 0.],\n",
       "        [0., 0., 0., 0., 0., 0., 0., 0., 0., 0.],\n",
       "        [0., 0., 0., 0., 0., 0., 0., 0., 0., 0.],\n",
       "        [0., 0., 0., 0., 0., 0., 0., 0., 0., 0.],\n",
       "        [0., 0., 0., 0., 0., 0., 0., 0., 0., 0.]]])"
      ]
     },
     "execution_count": 6,
     "metadata": {},
     "output_type": "execute_result"
    }
   ],
   "source": [
    "np.zeros((2,5,10))"
   ]
  },
  {
   "cell_type": "code",
   "execution_count": 9,
   "metadata": {},
   "outputs": [
    {
     "data": {
      "text/plain": [
       "array([[[[[42, 42, 42, 42, 42],\n",
       "          [42, 42, 42, 42, 42],\n",
       "          [42, 42, 42, 42, 42],\n",
       "          [42, 42, 42, 42, 42]],\n",
       "\n",
       "         [[42, 42, 42, 42, 42],\n",
       "          [42, 42, 42, 42, 42],\n",
       "          [42, 42, 42, 42, 42],\n",
       "          [42, 42, 42, 42, 42]],\n",
       "\n",
       "         [[42, 42, 42, 42, 42],\n",
       "          [42, 42, 42, 42, 42],\n",
       "          [42, 42, 42, 42, 42],\n",
       "          [42, 42, 42, 42, 42]]],\n",
       "\n",
       "\n",
       "        [[[42, 42, 42, 42, 42],\n",
       "          [42, 42, 42, 42, 42],\n",
       "          [42, 42, 42, 42, 42],\n",
       "          [42, 42, 42, 42, 42]],\n",
       "\n",
       "         [[42, 42, 42, 42, 42],\n",
       "          [42, 42, 42, 42, 42],\n",
       "          [42, 42, 42, 42, 42],\n",
       "          [42, 42, 42, 42, 42]],\n",
       "\n",
       "         [[42, 42, 42, 42, 42],\n",
       "          [42, 42, 42, 42, 42],\n",
       "          [42, 42, 42, 42, 42],\n",
       "          [42, 42, 42, 42, 42]]]]])"
      ]
     },
     "execution_count": 9,
     "metadata": {},
     "output_type": "execute_result"
    }
   ],
   "source": [
    "# Used to fill a given value with a definite shape.Parent function for np.ones and np.zeros?\n",
    "np.full((1,2,3,4,5),42)"
   ]
  },
  {
   "cell_type": "code",
   "execution_count": null,
   "metadata": {
    "collapsed": true
   },
   "outputs": [],
   "source": []
  },
  {
   "cell_type": "markdown",
   "metadata": {},
   "source": [
    "## `identity`"
   ]
  },
  {
   "cell_type": "markdown",
   "metadata": {},
   "source": [
    "**Exercise:** Construct a 5 x 5 array with 1s along the diagonal and zeros everywhere else."
   ]
  },
  {
   "cell_type": "code",
   "execution_count": 37,
   "metadata": {
    "collapsed": true
   },
   "outputs": [],
   "source": [
    "np.identity?"
   ]
  },
  {
   "cell_type": "code",
   "execution_count": 36,
   "metadata": {},
   "outputs": [
    {
     "data": {
      "text/plain": [
       "array([[1., 0., 0., 0., 0.],\n",
       "       [0., 1., 0., 0., 0.],\n",
       "       [0., 0., 1., 0., 0.],\n",
       "       [0., 0., 0., 1., 0.],\n",
       "       [0., 0., 0., 0., 1.]])"
      ]
     },
     "execution_count": 36,
     "metadata": {},
     "output_type": "execute_result"
    }
   ],
   "source": [
    "'''This function is used to create an array of a given shape with ony the main diagonal having the\n",
    "value one and all spaces have the value zero filled in it'''\n",
    "np.identity(5)"
   ]
  },
  {
   "cell_type": "markdown",
   "metadata": {},
   "source": [
    "## Exercise: `random`"
   ]
  },
  {
   "cell_type": "code",
   "execution_count": 41,
   "metadata": {
    "collapsed": true
   },
   "outputs": [],
   "source": [
    "rng = np.random.RandomState(seed=42)"
   ]
  },
  {
   "cell_type": "markdown",
   "metadata": {},
   "source": [
    "Construct an array containing 10 values drawn uniformly at random from the interval `[-1, 1]`."
   ]
  },
  {
   "cell_type": "code",
   "execution_count": 54,
   "metadata": {},
   "outputs": [
    {
     "data": {
      "text/plain": [
       "array([-0.60065244,  0.02846888,  0.18482914, -0.90709917,  0.2150897 ,\n",
       "       -0.65895175, -0.86989681,  0.89777107,  0.93126407,  0.6167947 ])"
      ]
     },
     "execution_count": 54,
     "metadata": {},
     "output_type": "execute_result"
    }
   ],
   "source": [
    "# rng.uniform?\n",
    "'''This function is used to create an array of a given size with values taken using the uniform distribution\n",
    "between 2 endpoints'''\n",
    "rng.uniform(-1,1,size=10)"
   ]
  },
  {
   "cell_type": "markdown",
   "metadata": {},
   "source": [
    "Construct a 3 x 3 array with values drawn from a normal distribution centered at 0 with a standard deviation of 2.5."
   ]
  },
  {
   "cell_type": "code",
   "execution_count": 57,
   "metadata": {},
   "outputs": [
    {
     "data": {
      "text/plain": [
       "array([[-4.89917531, -3.32046512,  0.49215309],\n",
       "       [ 1.84616645,  0.4284207 , -0.28912071],\n",
       "       [-0.75275924, -3.69630498, -1.79961052]])"
      ]
     },
     "execution_count": 57,
     "metadata": {},
     "output_type": "execute_result"
    }
   ],
   "source": [
    "# rng.normal?\n",
    "'''This function is used to create an array of a given shape with values taken from the normla distribution between\n",
    "2 points'''\n",
    "rng.normal(0,2.5,size=(3,3))"
   ]
  },
  {
   "cell_type": "markdown",
   "metadata": {},
   "source": [
    "## `pandas.read_csv`\n",
    "\n",
    "Many people use the `pandas` module to read numerical data from external sources. The `.csv` (comma-separated value) format is often used for small and medium-sized datasets."
   ]
  },
  {
   "cell_type": "code",
   "execution_count": 58,
   "metadata": {
    "collapsed": true
   },
   "outputs": [],
   "source": [
    "import pandas as pd"
   ]
  },
  {
   "cell_type": "markdown",
   "metadata": {},
   "source": [
    "We can read a CSV into a DataFrame useing `pandas.read_csv`."
   ]
  },
  {
   "cell_type": "code",
   "execution_count": 59,
   "metadata": {},
   "outputs": [
    {
     "data": {
      "text/html": [
       "<div>\n",
       "<style scoped>\n",
       "    .dataframe tbody tr th:only-of-type {\n",
       "        vertical-align: middle;\n",
       "    }\n",
       "\n",
       "    .dataframe tbody tr th {\n",
       "        vertical-align: top;\n",
       "    }\n",
       "\n",
       "    .dataframe thead th {\n",
       "        text-align: right;\n",
       "    }\n",
       "</style>\n",
       "<table border=\"1\" class=\"dataframe\">\n",
       "  <thead>\n",
       "    <tr style=\"text-align: right;\">\n",
       "      <th></th>\n",
       "      <th>AAPL</th>\n",
       "      <th>MSFT</th>\n",
       "      <th>TSLA</th>\n",
       "      <th>MCD</th>\n",
       "      <th>BK</th>\n",
       "    </tr>\n",
       "    <tr>\n",
       "      <th>dt</th>\n",
       "      <th></th>\n",
       "      <th></th>\n",
       "      <th></th>\n",
       "      <th></th>\n",
       "      <th></th>\n",
       "    </tr>\n",
       "  </thead>\n",
       "  <tbody>\n",
       "    <tr>\n",
       "      <th>2017-10-02 13:31:00</th>\n",
       "      <td>154.34</td>\n",
       "      <td>74.880</td>\n",
       "      <td>342.330</td>\n",
       "      <td>156.380</td>\n",
       "      <td>52.736</td>\n",
       "    </tr>\n",
       "    <tr>\n",
       "      <th>2017-10-02 13:32:00</th>\n",
       "      <td>154.07</td>\n",
       "      <td>74.832</td>\n",
       "      <td>341.480</td>\n",
       "      <td>156.660</td>\n",
       "      <td>52.686</td>\n",
       "    </tr>\n",
       "    <tr>\n",
       "      <th>2017-10-02 13:33:00</th>\n",
       "      <td>153.72</td>\n",
       "      <td>74.835</td>\n",
       "      <td>341.830</td>\n",
       "      <td>156.324</td>\n",
       "      <td>52.756</td>\n",
       "    </tr>\n",
       "    <tr>\n",
       "      <th>2017-10-02 13:34:00</th>\n",
       "      <td>153.69</td>\n",
       "      <td>74.890</td>\n",
       "      <td>341.240</td>\n",
       "      <td>156.660</td>\n",
       "      <td>52.726</td>\n",
       "    </tr>\n",
       "    <tr>\n",
       "      <th>2017-10-02 13:35:00</th>\n",
       "      <td>153.45</td>\n",
       "      <td>74.810</td>\n",
       "      <td>341.873</td>\n",
       "      <td>156.670</td>\n",
       "      <td>52.706</td>\n",
       "    </tr>\n",
       "  </tbody>\n",
       "</table>\n",
       "</div>"
      ],
      "text/plain": [
       "                       AAPL    MSFT     TSLA      MCD      BK\n",
       "dt                                                           \n",
       "2017-10-02 13:31:00  154.34  74.880  342.330  156.380  52.736\n",
       "2017-10-02 13:32:00  154.07  74.832  341.480  156.660  52.686\n",
       "2017-10-02 13:33:00  153.72  74.835  341.830  156.324  52.756\n",
       "2017-10-02 13:34:00  153.69  74.890  341.240  156.660  52.726\n",
       "2017-10-02 13:35:00  153.45  74.810  341.873  156.670  52.706"
      ]
     },
     "execution_count": 59,
     "metadata": {},
     "output_type": "execute_result"
    }
   ],
   "source": [
    "'''This function is used to read the csv file(Extremely common for small and medium scale data sets) and also \n",
    "select the idnex columns,parse dates etc'''\n",
    "\n",
    "prices = pd.read_csv('prices.csv', index_col='dt', parse_dates=['dt'])\n",
    "prices.head()"
   ]
  },
  {
   "cell_type": "markdown",
   "metadata": {},
   "source": [
    "DataFrames are composed of three parts:\n",
    "\n",
    "- `index`, an array of row-labels\n",
    "- `columns`, an array of column-labels\n",
    "- `values`, an array of table values."
   ]
  },
  {
   "cell_type": "markdown",
   "metadata": {},
   "source": [
    "We can get a numpy array for each of these attributes by using the `.values` attribute:"
   ]
  },
  {
   "cell_type": "code",
   "execution_count": 60,
   "metadata": {},
   "outputs": [
    {
     "data": {
      "text/plain": [
       "array(['2017-10-02T13:31:00.000000000', '2017-10-02T13:32:00.000000000',\n",
       "       '2017-10-02T13:33:00.000000000', ...,\n",
       "       '2017-10-31T19:58:00.000000000', '2017-10-31T19:59:00.000000000',\n",
       "       '2017-10-31T20:00:00.000000000'], dtype='datetime64[ns]')"
      ]
     },
     "execution_count": 60,
     "metadata": {},
     "output_type": "execute_result"
    }
   ],
   "source": [
    "'''The values argunment for any colum returns the values of that column as a numpy array'''\n",
    "prices.index.values"
   ]
  },
  {
   "cell_type": "code",
   "execution_count": 61,
   "metadata": {},
   "outputs": [
    {
     "data": {
      "text/plain": [
       "array(['AAPL', 'MSFT', 'TSLA', 'MCD', 'BK'], dtype=object)"
      ]
     },
     "execution_count": 61,
     "metadata": {},
     "output_type": "execute_result"
    }
   ],
   "source": [
    "prices.columns.values"
   ]
  },
  {
   "cell_type": "code",
   "execution_count": 62,
   "metadata": {},
   "outputs": [
    {
     "data": {
      "text/plain": [
       "array([[154.34 ,  74.88 , 342.33 , 156.38 ,  52.736],\n",
       "       [154.07 ,  74.832, 341.48 , 156.66 ,  52.686],\n",
       "       [153.72 ,  74.835, 341.83 , 156.324,  52.756],\n",
       "       ...,\n",
       "       [169.1  ,  83.18 , 331.44 , 166.82 ,  51.415],\n",
       "       [169.13 ,  83.17 , 331.8  , 166.87 ,  51.42 ],\n",
       "       [169.05 ,  83.18 , 331.52 , 166.9  ,  51.45 ]])"
      ]
     },
     "execution_count": 62,
     "metadata": {},
     "output_type": "execute_result"
    }
   ],
   "source": [
    "prices.values"
   ]
  },
  {
   "cell_type": "markdown",
   "metadata": {},
   "source": [
    "**Exercise:** Use `pd.read_csv` to load the file \"volumes.csv\"."
   ]
  },
  {
   "cell_type": "code",
   "execution_count": 63,
   "metadata": {
    "collapsed": true
   },
   "outputs": [],
   "source": [
    "dummynew=pd.read_csv(\"volumes.csv\")"
   ]
  },
  {
   "cell_type": "markdown",
   "metadata": {},
   "source": [
    "**Exercise:** Get a numpy array of datetimes representing the row-labels of the DataFrame."
   ]
  },
  {
   "cell_type": "code",
   "execution_count": 70,
   "metadata": {},
   "outputs": [
    {
     "data": {
      "text/plain": [
       "array(['2017-10-02 13:31:00+00:00', '2017-10-02 13:32:00+00:00',\n",
       "       '2017-10-02 13:33:00+00:00', ..., '2017-10-31 19:58:00+00:00',\n",
       "       '2017-10-31 19:59:00+00:00', '2017-10-31 20:00:00+00:00'],\n",
       "      dtype=object)"
      ]
     },
     "execution_count": 70,
     "metadata": {},
     "output_type": "execute_result"
    }
   ],
   "source": [
    "dummynew['dt'].values"
   ]
  },
  {
   "cell_type": "markdown",
   "metadata": {},
   "source": [
    "**Exercise:** Get a numpy array of strings representing the column-labels of the DataFrame."
   ]
  },
  {
   "cell_type": "code",
   "execution_count": 107,
   "metadata": {},
   "outputs": [
    {
     "data": {
      "text/plain": [
       "array([['2017-10-02 13:31:00+00:00', 420042.0, 409211.0, 49907.0,\n",
       "        85774.0, 30276.0],\n",
       "       ['2017-10-02 13:32:00+00:00', 161960.0, 49207.0, 18480.0, 6866.0,\n",
       "        4511.0],\n",
       "       ['2017-10-02 13:33:00+00:00', 118283.0, 24043.0, 47039.0, 3000.0,\n",
       "        3001.0],\n",
       "       ...,\n",
       "       ['2017-10-31 19:58:00+00:00', 308468.0, 191973.0, 24702.0, 8959.0,\n",
       "        32288.0],\n",
       "       ['2017-10-31 19:59:00+00:00', 343843.0, 198143.0, 35814.0,\n",
       "        13696.0, 56411.0],\n",
       "       ['2017-10-31 20:00:00+00:00', 661452.0, 610933.0, 59772.0,\n",
       "        58947.0, 177300.0]], dtype=object)"
      ]
     },
     "execution_count": 107,
     "metadata": {},
     "output_type": "execute_result"
    }
   ],
   "source": [
    "newarraystring=np.array(dummynew.columns)\n",
    "# print(newarraystring+newarraystring)\n",
    "dummynew.columns.values\n",
    "\n",
    "dummynew.values"
   ]
  },
  {
   "cell_type": "markdown",
   "metadata": {},
   "source": [
    "**Exercise:** Get a numpy array of floats representing the table values of the DataFrame."
   ]
  },
  {
   "cell_type": "markdown",
   "metadata": {},
   "source": [
    "## Reshaping Arrays\n",
    "\n",
    "Once we've created or loaded an array, a common next step is to reshape the array.\n",
    "\n",
    "The most general way to reshape an array is to use the `.reshape` method of `ndarray`. `.reshape` accepts a tuple of new dimensions and "
   ]
  },
  {
   "cell_type": "code",
   "execution_count": 77,
   "metadata": {
    "collapsed": true
   },
   "outputs": [],
   "source": [
    "data = np.arange(12)"
   ]
  },
  {
   "cell_type": "markdown",
   "metadata": {},
   "source": [
    "**Exercise:** Reshape `data` into an array with three rows and four columns."
   ]
  },
  {
   "cell_type": "code",
   "execution_count": 81,
   "metadata": {},
   "outputs": [
    {
     "data": {
      "text/plain": [
       "array([[ 0,  1,  2,  3],\n",
       "       [ 4,  5,  6,  7],\n",
       "       [ 8,  9, 10, 11]])"
      ]
     },
     "execution_count": 81,
     "metadata": {},
     "output_type": "execute_result"
    }
   ],
   "source": [
    "# data.reshape?\n",
    "'''Reshape allows us to change the ordering of the values in our matrix.This only works if the shape that you give\n",
    "is actually valid for a given matrix.Eg a shape of (3,5) is invalid as 12 elements cannot be order in a matrix which\n",
    "requires atleast 15 shapes\n",
    "'''\n",
    "\n",
    "data.reshape((3,4))"
   ]
  },
  {
   "cell_type": "markdown",
   "metadata": {},
   "source": [
    "**Exercise:** Reshape `data` into an array with four rows and three columns:"
   ]
  },
  {
   "cell_type": "code",
   "execution_count": 79,
   "metadata": {},
   "outputs": [
    {
     "data": {
      "text/plain": [
       "array([[ 0,  1,  2],\n",
       "       [ 3,  4,  5],\n",
       "       [ 6,  7,  8],\n",
       "       [ 9, 10, 11]])"
      ]
     },
     "execution_count": 79,
     "metadata": {},
     "output_type": "execute_result"
    }
   ],
   "source": [
    "data.reshape(4,3)"
   ]
  },
  {
   "cell_type": "markdown",
   "metadata": {},
   "source": [
    "**Exercise:** Reshape `data` into an array of shape `(2, 2, 3)`."
   ]
  },
  {
   "cell_type": "code",
   "execution_count": 82,
   "metadata": {},
   "outputs": [
    {
     "data": {
      "text/plain": [
       "array([[[ 0,  1,  2],\n",
       "        [ 3,  4,  5]],\n",
       "\n",
       "       [[ 6,  7,  8],\n",
       "        [ 9, 10, 11]]])"
      ]
     },
     "execution_count": 82,
     "metadata": {},
     "output_type": "execute_result"
    }
   ],
   "source": [
    "data.reshape(2,2,3)"
   ]
  },
  {
   "cell_type": "markdown",
   "metadata": {},
   "source": [
    "## Transpose"
   ]
  },
  {
   "cell_type": "markdown",
   "metadata": {},
   "source": [
    "A common pattern, especially when doing linear algebra with 2D arrays, is to need to \"rotate\" an array by 90 degrees. This operation is commonly known as \"transposing\" the array."
   ]
  },
  {
   "cell_type": "markdown",
   "metadata": {},
   "source": [
    "**Exercise:** Use the `.transpose()` method to convert data from a `2 x 4` array into a `4 x 2` array."
   ]
  },
  {
   "cell_type": "code",
   "execution_count": 83,
   "metadata": {},
   "outputs": [
    {
     "data": {
      "text/plain": [
       "array([[0, 4],\n",
       "       [1, 5],\n",
       "       [2, 6],\n",
       "       [3, 7]])"
      ]
     },
     "execution_count": 83,
     "metadata": {},
     "output_type": "execute_result"
    }
   ],
   "source": [
    "data = np.arange(8).reshape(2, 4)\n",
    "data.T"
   ]
  },
  {
   "cell_type": "code",
   "execution_count": null,
   "metadata": {
    "collapsed": true
   },
   "outputs": [],
   "source": [
    "data.transpose?"
   ]
  },
  {
   "cell_type": "markdown",
   "metadata": {},
   "source": [
    "Transposing arrays is so common in linear algebra that numpy provides a shorthand for it. The `.T` property provides a transposed view of an array.\n",
    "\n",
    "**Exercise:** Transpose `data` using the `.T` property."
   ]
  },
  {
   "cell_type": "code",
   "execution_count": 86,
   "metadata": {},
   "outputs": [
    {
     "data": {
      "text/plain": [
       "array([[0, 4],\n",
       "       [1, 5],\n",
       "       [2, 6],\n",
       "       [3, 7]])"
      ]
     },
     "execution_count": 86,
     "metadata": {},
     "output_type": "execute_result"
    }
   ],
   "source": [
    "'''Transpose basically reshapes the array by swapping the columns with the rows and vice versa'''\n",
    "data.transpose()"
   ]
  },
  {
   "cell_type": "markdown",
   "metadata": {},
   "source": [
    "## Measuring Performance of Numpy vs. Pure Python\n",
    "\n",
    "We've seen that numpy allows us to run simple numerical computations much faster than pure Python. To show that, we used a few different functions and tools:\n",
    "\n",
    "- We used a `dot_product` method implemented in pure Python:\n",
    "\n",
    "```python\n",
    "def python_dot_product(xs, ys):\n",
    "    return sum(x * y for x, y in zip(xs, ys))\n",
    "```\n",
    "- We used two numpy implementations of `dot_product`:\n",
    "\n",
    "```python\n",
    "def manual_numpy_dot(xs, ys):\n",
    "    return (xs * ys).sum()\n",
    "\n",
    "def native_numpy_dot(xs, ys):\n",
    "    return xs.dot(ys)\n",
    "```\n",
    "\n",
    "- We used IPython's `%%timeit` magic as a simple way to measure how long a cell takes to run on average.\n",
    "\n",
    "Unfortunately, nothing in programming comes for free. Numpy allows us to speed up computations on large arrays by performing one complex dispatch **per array** instead of a cheap dispatch **per array element**. **This only gives us a speedup if we have many array elements.**"
   ]
  },
  {
   "cell_type": "markdown",
   "metadata": {},
   "source": [
    "### Exercise:\n",
    "Using the ``%%timeit`` builtin, figure out how many data points you need to have for a numpy dot product to be faster than a pure-python implementation.\n",
    "\n",
    "You can use the `make_list` function below to create Python lists of a given size. Use any of the functions from the exercises above to make numpy lists. Be sure not to include the list/array creation in your timings (that probably means you want to use separate cells for constructing arrays and testing timings)."
   ]
  },
  {
   "cell_type": "code",
   "execution_count": 87,
   "metadata": {
    "collapsed": true
   },
   "outputs": [],
   "source": [
    "def make_list(size):\n",
    "    return list(range(size))\n",
    "\n",
    "def python_dot_product(xs, ys):\n",
    "    return sum(x * y for x, y in zip(xs, ys))\n",
    "\n",
    "def manual_numpy_dot(xs, ys):\n",
    "    return (xs * ys).sum()\n",
    "\n",
    "def native_numpy_dot(xs, ys):\n",
    "    return xs.dot(ys)"
   ]
  },
  {
   "cell_type": "code",
   "execution_count": 99,
   "metadata": {
    "collapsed": true
   },
   "outputs": [],
   "source": [
    "dummy1=np.arange(10000000).reshape(500,20000)"
   ]
  },
  {
   "cell_type": "code",
   "execution_count": 100,
   "metadata": {},
   "outputs": [
    {
     "name": "stdout",
     "output_type": "stream",
     "text": [
      "19.5 ms ± 687 µs per loop (mean ± std. dev. of 7 runs, 10 loops each)\n"
     ]
    }
   ],
   "source": [
    "%%timeit\n",
    "python_dot_product(dummy1,dummy1)"
   ]
  },
  {
   "cell_type": "code",
   "execution_count": 101,
   "metadata": {},
   "outputs": [
    {
     "name": "stdout",
     "output_type": "stream",
     "text": [
      "4.24 s ± 39.3 ms per loop (mean ± std. dev. of 7 runs, 1 loop each)\n"
     ]
    }
   ],
   "source": [
    "%%timeit\n",
    "dummy1.dot(dummy1.T)"
   ]
  },
  {
   "cell_type": "code",
   "execution_count": null,
   "metadata": {
    "collapsed": true
   },
   "outputs": [],
   "source": []
  }
 ],
 "metadata": {
  "kernelspec": {
   "display_name": "Python 3",
   "language": "python",
   "name": "python3"
  },
  "language_info": {
   "codemirror_mode": {
    "name": "ipython",
    "version": 3
   },
   "file_extension": ".py",
   "mimetype": "text/x-python",
   "name": "python",
   "nbconvert_exporter": "python",
   "pygments_lexer": "ipython3",
   "version": "3.6.3"
  }
 },
 "nbformat": 4,
 "nbformat_minor": 2
}
